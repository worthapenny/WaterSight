{
 "cells": [
  {
   "cell_type": "code",
   "execution_count": 1,
   "metadata": {
    "dotnet_interactive": {
     "language": "csharp"
    }
   },
   "outputs": [],
   "source": [
    "import sys\n",
    "import clr\n",
    "import asyncio"
   ]
  },
  {
   "cell_type": "code",
   "execution_count": 2,
   "metadata": {},
   "outputs": [
    {
     "name": "stdout",
     "output_type": "stream",
     "text": [
      "Assembly loaded\n"
     ]
    }
   ],
   "source": [
    "assembly_path = r\"D:\\Development\\DotNET\\WaterSight\\WaterSight\\Output\\WaterSight.Web\\bin\\x64\\Debug\"\n",
    "assembly_name = \"WaterSight.Web\"\n",
    "sys.path.append(assembly_path)\n",
    "\n",
    "loaded = clr.AddReference(assembly_name)\n",
    "\n",
    "if loaded:\n",
    "  print(\"Assembly loaded\")\n",
    "else:\n",
    "  print(f\"Failed to load assembly from: {assembly_path}, with name: {assembly_name}\")\n",
    "  exit()"
   ]
  },
  {
   "cell_type": "code",
   "execution_count": 3,
   "metadata": {},
   "outputs": [],
   "source": [
    "from WaterSight.Web.Core import WS, Env"
   ]
  },
  {
   "cell_type": "code",
   "execution_count": 4,
   "metadata": {},
   "outputs": [],
   "source": [
    "environment = Env.Qa\n",
    "digital_twin_id = 4828\n",
    "reg_path = r\"SOFTWARE\\WaterSight\\BentleyProdOIDCToken\"\n",
    "\n",
    "ws = WS(\n",
    "  tokenRegistryPath=reg_path, \n",
    "  digitalTwinId= digital_twin_id, \n",
    "  env= environment)\n",
    "\n",
    "ws.SetLoggingLevelToVerbose()"
   ]
  },
  {
   "cell_type": "code",
   "execution_count": 5,
   "metadata": {},
   "outputs": [],
   "source": [
    "async def draw_initial_table(ws: WS) -> None:\n",
    "  dt = ws.DigitalTwin.GetDigitalTwinAsync(ws.Options.DigitalTwinId).Result\n",
    "  user_info = ws.UserInfo.GetUserInfoAsync().Result\n",
    "\n",
    "  dt_name = f\"{dt.Id}: {dt.Name}\" if dt else \"DT is empty\"\n",
    "  table_title_line_1 = f\"{dt_name} {ws.Options.Env.ToString()}\"\n",
    "  table_title_line_2 = f\"{user_info}\" if user_info else \"Not logged in!\"\n",
    "\n",
    "  print(table_title_line_1)\n",
    "  print(table_title_line_2)\n"
   ]
  },
  {
   "cell_type": "code",
   "execution_count": 10,
   "metadata": {},
   "outputs": [
    {
     "name": "stdout",
     "output_type": "stream",
     "text": [
      "4828\n"
     ]
    }
   ],
   "source": [
    "# await draw_initial_table(ws=ws)\n",
    "# from System.Threading.Tasks import Task\n",
    "\n",
    "\n",
    "print(ws.Options.DigitalTwinId)\n",
    "dt = ws.DigitalTwin.GetDigitalTwinAsync(ws.Options.DigitalTwinId).GetAwaiter().GetResult()\n",
    "dt"
   ]
  },
  {
   "cell_type": "code",
   "execution_count": 11,
   "metadata": {},
   "outputs": [],
   "source": [
    "user_info = ws.UserInfo.GetUserInfoAsync().Result"
   ]
  }
 ],
 "metadata": {
  "kernelspec": {
   "display_name": "Python 3.10.4 64-bit",
   "language": "python",
   "name": "python3"
  },
  "language_info": {
   "codemirror_mode": {
    "name": "ipython",
    "version": 3
   },
   "file_extension": ".py",
   "mimetype": "text/x-python",
   "name": "python",
   "nbconvert_exporter": "python",
   "pygments_lexer": "ipython3",
   "version": "3.10.4"
  },
  "orig_nbformat": 4,
  "vscode": {
   "interpreter": {
    "hash": "4bff2e9e3132d13a977e14a3ec510009c1fd8be46d967e51140dec70b72d9665"
   }
  }
 },
 "nbformat": 4,
 "nbformat_minor": 2
}
