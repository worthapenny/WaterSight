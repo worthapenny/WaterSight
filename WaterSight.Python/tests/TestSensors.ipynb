{
  "cells": [
    {
      "cell_type": "code",
      "execution_count": null,
      "metadata": {
        "dotnet_interactive": {
          "language": "csharp"
        },
        "vscode": {
          "languageId": "dotnet-interactive.csharp"
        }
      },
      "outputs": [
        {
          "data": {
            "text/html": [
              "<div><div><strong>Restore sources</strong><ul><li><span>D:\\Development\\DotNET\\WaterSight\\WaterSight\\Output\\WaterSight.Web\\bin\\x64\\Debug\\</span></li></ul></div><div></div><div></div></div>"
            ]
          },
          "metadata": {},
          "output_type": "display_data"
        }
      ],
      "source": [
        "#i \"D:\\Development\\DotNET\\WaterSight\\WaterSight\\Output\\WaterSight.Web\\bin\\x64\\Debug\\\"\n",
        "\n",
        "#r \"D:\\Development\\DotNET\\WaterSight\\WaterSight\\Output\\WaterSight.Web\\bin\\x64\\Debug\\WaterSight.Web.dll\""
      ]
    },
    {
      "cell_type": "code",
      "execution_count": null,
      "metadata": {
        "dotnet_interactive": {
          "language": "csharp"
        },
        "vscode": {
          "languageId": "dotnet-interactive.csharp"
        }
      },
      "outputs": [],
      "source": [
        "using WaterSight.Web.Core;\n",
        "using WaterSight.Web.Custom;\n"
      ]
    },
    {
      "cell_type": "markdown",
      "metadata": {},
      "source": [
        "### Helpful Functions"
      ]
    },
    {
      "cell_type": "code",
      "execution_count": null,
      "metadata": {
        "dotnet_interactive": {
          "language": "csharp"
        },
        "vscode": {
          "languageId": "dotnet-interactive.csharp"
        }
      },
      "outputs": [],
      "source": [
        "private async Task DrawInitialTable(WS ws){\n",
        "    var dt = await ws.DigitalTwin.GetDigitalTwinAsync(ws.Options.DigitalTwinId);\n",
        "    var dtName = dt?.ID + \": \" + dt?.Name + $\" [{ws.Options.Env.ToString().ToUpper()}]\";\n",
        "    var userInfo = (await ws.UserInfo.GetUserInfoAsync())?.ToString() ?? \"\";\n",
        "\n",
        "    var width = 100;\n",
        "\n",
        "    var topLeft = '╔'; // (char)201;\n",
        "    var topRight = '╗'; // (char)187;\n",
        "    var bottomLeft = '╚'; // (char)200;\n",
        "    var bottomRight = '╝'; // (char)188;\n",
        "    var horizontal = '═'; // (char)205;\n",
        "    var vertial = '║'; // (char)186;\n",
        "\n",
        "    WS.Logger.Information(\"\");\n",
        "    WS.Logger.Information(topLeft + new string(horizontal, width) + topRight);\n",
        "    WS.Logger.Information(vertial + dtName.PadRight(width - (width - dtName.Length) / 2).PadLeft(width) + vertial);\n",
        "    WS.Logger.Information(vertial + userInfo.PadRight(width - (width - userInfo.Length) / 2).PadLeft(width) + vertial);\n",
        "    WS.Logger.Information(bottomLeft + new string(horizontal, width) + bottomRight);\n",
        "    WS.Logger.Information(\"\");\n",
        "}"
      ]
    },
    {
      "cell_type": "markdown",
      "metadata": {},
      "source": [
        "### Initial Setup"
      ]
    },
    {
      "cell_type": "code",
      "execution_count": null,
      "metadata": {
        "dotnet_interactive": {
          "language": "csharp"
        },
        "vscode": {
          "languageId": "dotnet-interactive.csharp"
        }
      },
      "outputs": [
        {
          "name": "stdout",
          "output_type": "stream",
          "text": [
            "16:27:45.98 | DBG | \r\n",
            "16:27:45.99 | DBG | Logging is ready. Path: C:\\Users\\akshaya.niraula\\.nuget\\packages\\microsoft.dotnet-interactive\\1.0.331401\\tools\\net6.0\\any\\Log\\WS.Base_.log\r\n",
            "16:27:46.15 | INF | Digital Twin info found for id: 179, 179: Watertown.\r\n",
            "16:27:46.22 | INF | User Info info found , Akshaya Niraula, Akshaya.Niraula@bentley.com.\r\n",
            "16:27:46.22 | INF | \r\n",
            "16:27:46.22 | INF | ╔════════════════════════════════════════════════════════════════════════════════════════════════════╗\r\n",
            "16:27:46.22 | INF | ║                                       179: Watertown [PROD]                                        ║\r\n",
            "16:27:46.22 | INF | ║                            Akshaya Niraula, Akshaya.Niraula@bentley.com                            ║\r\n",
            "16:27:46.22 | INF | ╚════════════════════════════════════════════════════════════════════════════════════════════════════╝\r\n",
            "16:27:46.22 | INF | \r\n"
          ]
        }
      ],
      "source": [
        "var environment = Env.Prod;\n",
        "var digitalTwinId = 179;\n",
        "\n",
        "var regPath = @\"SOFTWARE\\WaterSight\\BentleyProdOIDCToken\";\n",
        "\n",
        "var ws = new WS(tokenRegistryPath: regPath, digitalTwinId: digitalTwinId, env: environment);\n",
        "ws.SetLoggingLevelToInfo();\n",
        "\n",
        "await DrawInitialTable(ws)"
      ]
    },
    {
      "cell_type": "code",
      "execution_count": null,
      "metadata": {
        "dotnet_interactive": {
          "language": "csharp"
        },
        "vscode": {
          "languageId": "dotnet-interactive.csharp"
        }
      },
      "outputs": [],
      "source": [
        "var waterModel = new WaterModel(ws);\n",
        "var modelMeasurements = await waterModel.GetAllScadaElementsOutputData();"
      ]
    },
    {
      "cell_type": "code",
      "execution_count": null,
      "metadata": {
        "dotnet_interactive": {
          "language": "csharp"
        },
        "vscode": {
          "languageId": "dotnet-interactive.csharp"
        }
      },
      "outputs": [],
      "source": []
    }
  ],
  "metadata": {
    "kernelspec": {
      "display_name": ".NET (C#)",
      "language": "C#",
      "name": ".net-csharp"
    },
    "language_info": {
      "file_extension": ".cs",
      "mimetype": "text/x-csharp",
      "name": "C#",
      "pygments_lexer": "csharp",
      "version": "8.0"
    }
  },
  "nbformat": 4,
  "nbformat_minor": 4
}
