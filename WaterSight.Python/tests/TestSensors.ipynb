{
  "cells": [
    {
      "cell_type": "code",
      "execution_count": null,
      "metadata": {
        "dotnet_interactive": {
          "language": "csharp"
        },
        "vscode": {
          "languageId": "dotnet-interactive.csharp"
        }
      },
      "outputs": [
        {
          "data": {
            "text/html": [
              "<div><div><strong>Restore sources</strong><ul><li><span>D:\\Development\\DotNET\\WaterSight\\WaterSight\\Output\\WaterSight.Web\\bin\\x64\\Debug\\</span></li></ul></div><div></div><div></div></div>"
            ]
          },
          "metadata": {},
          "output_type": "display_data"
        }
      ],
      "source": [
        "#i \"D:\\Development\\DotNET\\WaterSight\\WaterSight\\Output\\WaterSight.Web\\bin\\x64\\Debug\\\"\n",
        "\n",
        "#r \"D:\\Development\\DotNET\\WaterSight\\WaterSight\\Output\\WaterSight.Web\\bin\\x64\\Debug\\WaterSight.Web.dll\""
      ]
    },
    {
      "cell_type": "code",
      "execution_count": null,
      "metadata": {
        "dotnet_interactive": {
          "language": "csharp"
        },
        "vscode": {
          "languageId": "dotnet-interactive.csharp"
        }
      },
      "outputs": [],
      "source": [
        "using WaterSight.Web.Core;\n",
        "using WaterSight.Web.Custom;\n"
      ]
    },
    {
      "cell_type": "markdown",
      "metadata": {},
      "source": [
        "### Helpful Functions"
      ]
    },
    {
      "cell_type": "code",
      "execution_count": null,
      "metadata": {
        "dotnet_interactive": {
          "language": "csharp"
        },
        "vscode": {
          "languageId": "dotnet-interactive.csharp"
        }
      },
      "outputs": [],
      "source": [
        "private async Task DrawInitialTable(WS ws){\n",
        "    var dt = await ws.DigitalTwin.GetDigitalTwinAsync(ws.Options.DigitalTwinId);\n",
        "    var dtName = dt?.ID + \": \" + dt?.Name + $\" [{ws.Options.Env.ToString().ToUpper()}]\";\n",
        "    var userInfo = (await ws.UserInfo.GetUserInfoAsync())?.ToString() ?? \"\";\n",
        "\n",
        "    var width = 100;\n",
        "\n",
        "    var topLeft = '╔'; // (char)201;\n",
        "    var topRight = '╗'; // (char)187;\n",
        "    var bottomLeft = '╚'; // (char)200;\n",
        "    var bottomRight = '╝'; // (char)188;\n",
        "    var horizontal = '═'; // (char)205;\n",
        "    var vertial = '║'; // (char)186;\n",
        "\n",
        "    WS.Logger.Information(\"\");\n",
        "    WS.Logger.Information(topLeft + new string(horizontal, width) + topRight);\n",
        "    WS.Logger.Information(vertial + dtName.PadRight(width - (width - dtName.Length) / 2).PadLeft(width) + vertial);\n",
        "    WS.Logger.Information(vertial + userInfo.PadRight(width - (width - userInfo.Length) / 2).PadLeft(width) + vertial);\n",
        "    WS.Logger.Information(bottomLeft + new string(horizontal, width) + bottomRight);\n",
        "    WS.Logger.Information(\"\");\n",
        "}"
      ]
    },
    {
      "cell_type": "markdown",
      "metadata": {},
      "source": [
        "### Initial Setup"
      ]
    },
    {
      "cell_type": "code",
      "execution_count": null,
      "metadata": {
        "dotnet_interactive": {
          "language": "csharp"
        },
        "vscode": {
          "languageId": "dotnet-interactive.csharp"
        }
      },
      "outputs": [
        {
          "name": "stdout",
          "output_type": "stream",
          "text": [
            "16:27:45.98 | DBG | \r\n",
            "16:27:45.99 | DBG | Logging is ready. Path: C:\\Users\\akshaya.niraula\\.nuget\\packages\\microsoft.dotnet-interactive\\1.0.331401\\tools\\net6.0\\any\\Log\\WS.Base_.log\r\n",
            "16:27:46.15 | INF | Digital Twin info found for id: 179, 179: Watertown.\r\n",
            "16:27:46.22 | INF | User Info info found , Akshaya Niraula, Akshaya.Niraula@bentley.com.\r\n",
            "16:27:46.22 | INF | \r\n",
            "16:27:46.22 | INF | ╔════════════════════════════════════════════════════════════════════════════════════════════════════╗\r\n",
            "16:27:46.22 | INF | ║                                       179: Watertown [PROD]                                        ║\r\n",
            "16:27:46.22 | INF | ║                            Akshaya Niraula, Akshaya.Niraula@bentley.com                            ║\r\n",
            "16:27:46.22 | INF | ╚════════════════════════════════════════════════════════════════════════════════════════════════════╝\r\n",
            "16:27:46.22 | INF | \r\n"
          ]
        }
      ],
      "source": [
        "var environment = Env.Prod;\n",
        "var digitalTwinId = 179;\n",
        "\n",
        "var regPath = @\"SOFTWARE\\WaterSight\\BentleyProdOIDCToken\";\n",
        "\n",
        "var ws = new WS(tokenRegistryPath: regPath, digitalTwinId: digitalTwinId, env: environment);\n",
        "ws.SetLoggingLevelToInfo();\n",
        "\n",
        "await DrawInitialTable(ws)"
      ]
    },
    {
      "cell_type": "code",
      "execution_count": null,
      "metadata": {
        "dotnet_interactive": {
          "language": "csharp"
        },
        "vscode": {
          "languageId": "dotnet-interactive.csharp"
        }
      },
      "outputs": [
        {
          "name": "stdout",
          "output_type": "stream",
          "text": [
            "16:51:20.61 | INF | Number of Sensors received. Count = 38.\r\n"
          ]
        },
        {
          "data": {
            "text/html": [
              "<table><thead><tr><th><i>index</i></th><th>ID</th><th>TagId</th><th>Name</th><th>ParameterType</th><th>Units</th><th>ReferenceElevation</th><th>LastInstantInDatabase</th></tr></thead><tbody><tr><td>0</td><td><div class=\"dni-plaintext\">18411</div></td><td>Bald Hill Tank_Level_ft</td><td>Bald Hill Tank Level</td><td>Level</td><td>ft</td><td><div class=\"dni-plaintext\">889.9999999999999</div></td><td><span>2022-07-08 22:45:00Z</span></td></tr><tr><td>1</td><td><div class=\"dni-plaintext\">18412</div></td><td>Scovill Tank_Level_ft</td><td>Scovill Tank Level</td><td>Level</td><td>ft</td><td><div class=\"dni-plaintext\">874.9999999999999</div></td><td><span>2022-07-08 22:45:00Z</span></td></tr><tr><td>2</td><td><div class=\"dni-plaintext\">18413</div></td><td>PRV-1_Flow_gpm</td><td>PRV-1 Flow</td><td>Flow</td><td>gal (U.S.)/min</td><td><div class=\"dni-plaintext\">&lt;null&gt;</div></td><td><span>2022-07-08 22:45:00Z</span></td></tr><tr><td>3</td><td><div class=\"dni-plaintext\">18414</div></td><td>PRV-2_Flow_gpm</td><td>PRV-2 Flow</td><td>Flow</td><td>gal (U.S.)/min</td><td><div class=\"dni-plaintext\">&lt;null&gt;</div></td><td><span>2022-07-08 22:45:00Z</span></td></tr><tr><td>4</td><td><div class=\"dni-plaintext\">18415</div></td><td>PRV-3_Flow_gpm</td><td>PRV-3 Flow</td><td>Flow</td><td>gal (U.S.)/min</td><td><div class=\"dni-plaintext\">&lt;null&gt;</div></td><td><span>2022-07-08 22:45:00Z</span></td></tr><tr><td>5</td><td><div class=\"dni-plaintext\">18416</div></td><td>PRV-4_Flow_gpm</td><td>PRV-4 Flow</td><td>Flow</td><td>gal (U.S.)/min</td><td><div class=\"dni-plaintext\">&lt;null&gt;</div></td><td><span>2022-07-08 22:45:00Z</span></td></tr><tr><td>6</td><td><div class=\"dni-plaintext\">18417</div></td><td>PRV-5_Flow_gpm</td><td>PRV-5 Flow</td><td>Flow</td><td>gal (U.S.)/min</td><td><div class=\"dni-plaintext\">&lt;null&gt;</div></td><td><span>2022-07-08 22:45:00Z</span></td></tr><tr><td>7</td><td><div class=\"dni-plaintext\">18418</div></td><td>PRV-6_Flow_gpm</td><td>PRV-6 Flow</td><td>Flow</td><td>gal (U.S.)/min</td><td><div class=\"dni-plaintext\">&lt;null&gt;</div></td><td><span>2022-07-08 22:45:00Z</span></td></tr><tr><td>8</td><td><div class=\"dni-plaintext\">18419</div></td><td>PRV-7_Flow_gpm</td><td>PRV-7 Flow</td><td>Flow</td><td>gal (U.S.)/min</td><td><div class=\"dni-plaintext\">&lt;null&gt;</div></td><td><span>2022-07-08 22:45:00Z</span></td></tr><tr><td>9</td><td><div class=\"dni-plaintext\">18420</div></td><td>Well Station Discharge_Flow_gpm</td><td>Well Station Flow</td><td>Flow</td><td>gal (U.S.)/min</td><td><div class=\"dni-plaintext\">&lt;null&gt;</div></td><td><span>2022-07-08 22:45:00Z</span></td></tr><tr><td>10</td><td><div class=\"dni-plaintext\">18421</div></td><td>Well Suction_Pressure_psi</td><td>Well Station Suction Pressure</td><td>Pressure</td><td>psi</td><td><div class=\"dni-plaintext\">446.64</div></td><td><span>2022-07-08 22:45:00Z</span></td></tr><tr><td>11</td><td><div class=\"dni-plaintext\">18422</div></td><td>Well Discharge_Pressure_psi</td><td>Well Station Discharge Pressure</td><td>Pressure</td><td>psi</td><td><div class=\"dni-plaintext\">446.18</div></td><td><span>2022-07-08 22:45:00Z</span></td></tr><tr><td>12</td><td><div class=\"dni-plaintext\">18423</div></td><td>Well PMP-1_Flow_gpm</td><td>Well PMP-1 Flow</td><td>Flow</td><td>gal (U.S.)/min</td><td><div class=\"dni-plaintext\">&lt;null&gt;</div></td><td><span>2022-07-08 22:45:00Z</span></td></tr><tr><td>13</td><td><div class=\"dni-plaintext\">18424</div></td><td>Well PMP-1_WirePower_kW</td><td>Well PMP-1 Wire Power</td><td>Power</td><td>kW</td><td><div class=\"dni-plaintext\">&lt;null&gt;</div></td><td><span>2022-07-08 22:45:00Z</span></td></tr><tr><td>14</td><td><div class=\"dni-plaintext\">18425</div></td><td>Well PMP-1_PumpStatus</td><td>Well PMP-1 Pump Status</td><td>Pump Status</td><td></td><td><div class=\"dni-plaintext\">&lt;null&gt;</div></td><td><span>2022-07-08 22:45:00Z</span></td></tr><tr><td>15</td><td><div class=\"dni-plaintext\">18426</div></td><td>Well PMP-1_RelativeSpeed</td><td>Well PMP-1 Relative Speed</td><td>Pump Speed</td><td></td><td><div class=\"dni-plaintext\">&lt;null&gt;</div></td><td><span>2022-07-08 22:45:00Z</span></td></tr><tr><td>16</td><td><div class=\"dni-plaintext\">18427</div></td><td>Well PMP-2_Flow_gpm</td><td>Well PMP-2 Flow</td><td>Flow</td><td>gal (U.S.)/min</td><td><div class=\"dni-plaintext\">&lt;null&gt;</div></td><td><span>2022-07-08 22:45:00Z</span></td></tr><tr><td>17</td><td><div class=\"dni-plaintext\">18428</div></td><td>Well PMP-2_WirePower_kW</td><td>Well PMP-2 Wire Power</td><td>Power</td><td>kW</td><td><div class=\"dni-plaintext\">&lt;null&gt;</div></td><td><span>2022-07-08 22:45:00Z</span></td></tr><tr><td>18</td><td><div class=\"dni-plaintext\">18429</div></td><td>Well PMP-2_PumpStatus</td><td>Well PMP-2 Pump Status</td><td>Pump Status</td><td></td><td><div class=\"dni-plaintext\">&lt;null&gt;</div></td><td><span>2022-07-08 22:45:00Z</span></td></tr><tr><td>19</td><td><div class=\"dni-plaintext\">18430</div></td><td>Well PMP-3_Flow_gpm</td><td>Well PMP-3 Flow</td><td>Flow</td><td>gal (U.S.)/min</td><td><div class=\"dni-plaintext\">&lt;null&gt;</div></td><td><span>2022-07-08 22:45:00Z</span></td></tr><tr><td colspan=\"8\"><i>(18 more)</i></td></tr></tbody></table>"
            ]
          },
          "metadata": {},
          "output_type": "display_data"
        }
      ],
      "source": [
        "var sensors = await ws.Sensor.GetSensorsConfigAsync();\n",
        "\n",
        "// Show the list with selected columns\n",
        "sensors.Select(s=> new {s.ID, s.TagId, s.Name, s.ParameterType, s.Units, s.ReferenceElevation, s.LastInstantInDatabase}).ToList()"
      ]
    },
    {
      "cell_type": "code",
      "execution_count": null,
      "metadata": {
        "dotnet_interactive": {
          "language": "csharp"
        },
        "vscode": {
          "languageId": "dotnet-interactive.csharp"
        }
      },
      "outputs": [
        {
          "name": "stdout",
          "output_type": "stream",
          "text": [
            "16:40:45.94 | INF | SCADAElments info found , System.Collections.Generic.Dictionary`2[System.String,System.Collections.Generic.List`1[WaterSight.Web.NumericModels.ModelScadaElementConfig]].\r\n",
            "16:40:46.08 | INF | Number of Simulation time-steps received. Count = 121.\r\n",
            "16:40:46.17 | INF | Number of Sensors received. Count = 38.\r\n",
            "16:40:46.51 | INF | Element TSD Result info found , Tanks/tanklevel [Tanks/tanklevel, ft] Count = 121.\r\n",
            "16:40:46.87 | INF | Element TSD Result info found , Nodes/pressure [Nodes/pressure, psi] Count = 121.\r\n",
            "16:40:47.42 | INF | Element TSD Result info found , Nodes/pressure [Nodes/pressure, psi] Count = 121.\r\n",
            "16:40:47.75 | INF | Element TSD Result info found , Reaches/flow [Reaches/flow, gal (U.S.)/min] Count = 121.\r\n",
            "16:40:48.08 | INF | Element TSD Result info found , Valves/flow [Valves/flow, gal (U.S.)/min] Count = 121.\r\n",
            "16:40:48.43 | INF | Element TSD Result info found , Valves/flow [Valves/flow, gal (U.S.)/min] Count = 121.\r\n",
            "16:40:48.77 | INF | Element TSD Result info found , Valves/flow [Valves/flow, gal (U.S.)/min] Count = 121.\r\n",
            "16:40:49.12 | INF | Element TSD Result info found , Valves/flow [Valves/flow, gal (U.S.)/min] Count = 121.\r\n",
            "16:40:49.46 | INF | Element TSD Result info found , Valves/flow [Valves/flow, gal (U.S.)/min] Count = 121.\r\n",
            "16:40:50.07 | INF | Element TSD Result info found , Valves/flow [Valves/flow, gal (U.S.)/min] Count = 121.\r\n",
            "16:40:50.47 | INF | Element TSD Result info found , Reaches/flow [Reaches/flow, gal (U.S.)/min] Count = 121.\r\n",
            "16:40:50.90 | INF | Element TSD Result info found , Reaches/flow [Reaches/flow, gal (U.S.)/min] Count = 121.\r\n",
            "16:40:51.22 | INF | Element TSD Result info found , Tanks/tanklevel [Tanks/tanklevel, ft] Count = 121.\r\n",
            "16:40:51.55 | INF | Element TSD Result info found , Pumps/flow [Pumps/flow, gal (U.S.)/min] Count = 121.\r\n",
            "16:40:51.85 | INF | Element TSD Result info found , Pumps/pumpstatus [Pumps/pumpstatus, ] Count = 121.\r\n",
            "16:40:52.19 | INF | Element TSD Result info found , Pumps/flow [Pumps/flow, gal (U.S.)/min] Count = 121.\r\n",
            "16:40:52.65 | INF | Element TSD Result info found , Pumps/pumpstatus [Pumps/pumpstatus, ] Count = 121.\r\n",
            "16:40:52.98 | INF | Element TSD Result info found , Pumps/flow [Pumps/flow, gal (U.S.)/min] Count = 121.\r\n",
            "16:40:53.27 | INF | Element TSD Result info found , Pumps/pumpstatus [Pumps/pumpstatus, ] Count = 121.\r\n",
            "16:40:53.63 | INF | Element TSD Result info found , Nodes/pressure [Nodes/pressure, psi] Count = 121.\r\n",
            "16:40:53.97 | INF | Element TSD Result info found , Nodes/pressure [Nodes/pressure, psi] Count = 121.\r\n",
            "16:40:54.31 | INF | Element TSD Result info found , Pumps/flow [Pumps/flow, gal (U.S.)/min] Count = 121.\r\n",
            "16:40:54.62 | INF | Element TSD Result info found , Pumps/pumpstatus [Pumps/pumpstatus, ] Count = 121.\r\n",
            "16:40:55.13 | INF | Element TSD Result info found , Pumps/flow [Pumps/flow, gal (U.S.)/min] Count = 121.\r\n",
            "16:40:55.44 | INF | Element TSD Result info found , Pumps/pumpstatus [Pumps/pumpstatus, ] Count = 121.\r\n",
            "16:40:55.78 | INF | Element TSD Result info found , Pumps/flow [Pumps/flow, gal (U.S.)/min] Count = 121.\r\n",
            "16:40:56.09 | INF | Element TSD Result info found , Pumps/pumpstatus [Pumps/pumpstatus, ] Count = 121.\r\n",
            "16:40:56.42 | INF | Element TSD Result info found , Valves/flow [Valves/flow, gal (U.S.)/min] Count = 121.\r\n",
            "16:41:08.57 | ERR | Message: {\"Timestamp\":\"2022-07-08T22:41:08.6818723Z\",\"Location\":\"/api/v1/RealTimeDataAcquisition/TimeSeriesValues/18419?digitalTwinId=179\\u0026startDateTime=2022-07-07T22:00:00.0000000Z\\u0026endDateTime=2022-07-09T04:00:00.0000000Z\\u0026integrationType=1\",\"Status\":400,\"Message\":\"Error occurred while attempting action TimeSeriesValuesForScadaSignalAndDates\",\"Detail\":\"The request timed-out.\",\"CorrelationId\":\"9de4d71d-85de-404e-a69b-e8e376bd309d\"}\r\n",
            "16:41:08.57 | ERR | Failed to get sensor TSD for 18419 [2022-07-07 22:00:00Z,2022-07-09 04:00:00Z]. Reason: Bad Request. Text: {\"Timestamp\":\"2022-07-08T22:41:08.6818723Z\",\"Location\":\"/api/v1/RealTimeDataAcquisition/TimeSeriesValues/18419?digitalTwinId=179\\u0026startDateTime=2022-07-07T22:00:00.0000000Z\\u0026endDateTime=2022-07-09T04:00:00.0000000Z\\u0026integrationType=1\",\"Status\":400,\"Message\":\"Error occurred while attempting action TimeSeriesValuesForScadaSignalAndDates\",\"Detail\":\"The request timed-out.\",\"CorrelationId\":\"9de4d71d-85de-404e-a69b-e8e376bd309d\"}. URL: https://connect-watersight.bentley.com/api/v1/RealTimeDataAcquisition/TimeSeriesValues/18419?digitalTwinId=179&startDateTime=2022-07-07T22:00:00.0000000Z&endDateTime=2022-07-09T04:00:00.0000000Z&integrationType=1\r\n",
            "16:41:08.58 | ERR | Message: {\"Timestamp\":\"2022-07-08T22:41:08.686878Z\",\"Location\":\"/api/v1/RealTimeDataAcquisition/TimeSeriesValues/18421?digitalTwinId=179\\u0026startDateTime=2022-07-07T22:00:00.0000000Z\\u0026endDateTime=2022-07-09T04:00:00.0000000Z\\u0026integrationType=1\",\"Status\":400,\"Message\":\"Error occurred while attempting action TimeSeriesValuesForScadaSignalAndDates\",\"Detail\":\"The request timed-out.\",\"CorrelationId\":\"6d7e941d-11cf-40a3-ba95-cf9300751523\"}\r\n",
            "16:41:08.58 | ERR | Failed to get sensor TSD for 18421 [2022-07-07 22:00:00Z,2022-07-09 04:00:00Z]. Reason: Bad Request. Text: {\"Timestamp\":\"2022-07-08T22:41:08.686878Z\",\"Location\":\"/api/v1/RealTimeDataAcquisition/TimeSeriesValues/18421?digitalTwinId=179\\u0026startDateTime=2022-07-07T22:00:00.0000000Z\\u0026endDateTime=2022-07-09T04:00:00.0000000Z\\u0026integrationType=1\",\"Status\":400,\"Message\":\"Error occurred while attempting action TimeSeriesValuesForScadaSignalAndDates\",\"Detail\":\"The request timed-out.\",\"CorrelationId\":\"6d7e941d-11cf-40a3-ba95-cf9300751523\"}. URL: https://connect-watersight.bentley.com/api/v1/RealTimeDataAcquisition/TimeSeriesValues/18421?digitalTwinId=179&startDateTime=2022-07-07T22:00:00.0000000Z&endDateTime=2022-07-09T04:00:00.0000000Z&integrationType=1\r\n",
            "16:41:08.58 | ERR | Message: {\"Timestamp\":\"2022-07-08T22:41:08.6918807Z\",\"Location\":\"/api/v1/RealTimeDataAcquisition/TimeSeriesValues/18412?digitalTwinId=179\\u0026startDateTime=2022-07-07T22:00:00.0000000Z\\u0026endDateTime=2022-07-09T04:00:00.0000000Z\\u0026integrationType=1\",\"Status\":400,\"Message\":\"Error occurred while attempting action TimeSeriesValuesForScadaSignalAndDates\",\"Detail\":\"The request timed-out.\",\"CorrelationId\":\"fac93574-9e88-4016-a25a-47016305e36f\"}\r\n",
            "16:41:08.58 | ERR | Failed to get sensor TSD for 18412 [2022-07-07 22:00:00Z,2022-07-09 04:00:00Z]. Reason: Bad Request. Text: {\"Timestamp\":\"2022-07-08T22:41:08.6918807Z\",\"Location\":\"/api/v1/RealTimeDataAcquisition/TimeSeriesValues/18412?digitalTwinId=179\\u0026startDateTime=2022-07-07T22:00:00.0000000Z\\u0026endDateTime=2022-07-09T04:00:00.0000000Z\\u0026integrationType=1\",\"Status\":400,\"Message\":\"Error occurred while attempting action TimeSeriesValuesForScadaSignalAndDates\",\"Detail\":\"The request timed-out.\",\"CorrelationId\":\"fac93574-9e88-4016-a25a-47016305e36f\"}. URL: https://connect-watersight.bentley.com/api/v1/RealTimeDataAcquisition/TimeSeriesValues/18412?digitalTwinId=179&startDateTime=2022-07-07T22:00:00.0000000Z&endDateTime=2022-07-09T04:00:00.0000000Z&integrationType=1\r\n",
            "16:41:08.58 | ERR | Message: {\"Timestamp\":\"2022-07-08T22:41:08.686878Z\",\"Location\":\"/api/v1/RealTimeDataAcquisition/TimeSeriesValues/18444?digitalTwinId=179\\u0026startDateTime=2022-07-07T22:00:00.0000000Z\\u0026endDateTime=2022-07-09T04:00:00.0000000Z\\u0026integrationType=1\",\"Status\":400,\"Message\":\"Error occurred while attempting action TimeSeriesValuesForScadaSignalAndDates\",\"Detail\":\"The request timed-out.\",\"CorrelationId\":\"300d944e-e3c6-4dda-ba01-3b3f2d353e9f\"}\r\n",
            "16:41:08.58 | ERR | Failed to get sensor TSD for 18444 [2022-07-07 22:00:00Z,2022-07-09 04:00:00Z]. Reason: Bad Request. Text: {\"Timestamp\":\"2022-07-08T22:41:08.686878Z\",\"Location\":\"/api/v1/RealTimeDataAcquisition/TimeSeriesValues/18444?digitalTwinId=179\\u0026startDateTime=2022-07-07T22:00:00.0000000Z\\u0026endDateTime=2022-07-09T04:00:00.0000000Z\\u0026integrationType=1\",\"Status\":400,\"Message\":\"Error occurred while attempting action TimeSeriesValuesForScadaSignalAndDates\",\"Detail\":\"The request timed-out.\",\"CorrelationId\":\"300d944e-e3c6-4dda-ba01-3b3f2d353e9f\"}. URL: https://connect-watersight.bentley.com/api/v1/RealTimeDataAcquisition/TimeSeriesValues/18444?digitalTwinId=179&startDateTime=2022-07-07T22:00:00.0000000Z&endDateTime=2022-07-09T04:00:00.0000000Z&integrationType=1\r\n",
            "16:41:08.58 | ERR | Message: {\"Timestamp\":\"2022-07-08T22:41:08.686878Z\",\"Location\":\"/api/v1/RealTimeDataAcquisition/TimeSeriesValues/18438?digitalTwinId=179\\u0026startDateTime=2022-07-07T22:00:00.0000000Z\\u0026endDateTime=2022-07-09T04:00:00.0000000Z\\u0026integrationType=1\",\"Status\":400,\"Message\":\"Error occurred while attempting action TimeSeriesValuesForScadaSignalAndDates\",\"Detail\":\"The request timed-out.\",\"CorrelationId\":\"d3cc7749-1692-47bc-bbc1-074826ad4693\"}\r\n",
            "16:41:08.58 | ERR | Failed to get sensor TSD for 18438 [2022-07-07 22:00:00Z,2022-07-09 04:00:00Z]. Reason: Bad Request. Text: {\"Timestamp\":\"2022-07-08T22:41:08.686878Z\",\"Location\":\"/api/v1/RealTimeDataAcquisition/TimeSeriesValues/18438?digitalTwinId=179\\u0026startDateTime=2022-07-07T22:00:00.0000000Z\\u0026endDateTime=2022-07-09T04:00:00.0000000Z\\u0026integrationType=1\",\"Status\":400,\"Message\":\"Error occurred while attempting action TimeSeriesValuesForScadaSignalAndDates\",\"Detail\":\"The request timed-out.\",\"CorrelationId\":\"d3cc7749-1692-47bc-bbc1-074826ad4693\"}. URL: https://connect-watersight.bentley.com/api/v1/RealTimeDataAcquisition/TimeSeriesValues/18438?digitalTwinId=179&startDateTime=2022-07-07T22:00:00.0000000Z&endDateTime=2022-07-09T04:00:00.0000000Z&integrationType=1\r\n",
            "16:41:08.59 | ERR | Message: {\"Timestamp\":\"2022-07-08T22:41:08.6918807Z\",\"Location\":\"/api/v1/RealTimeDataAcquisition/TimeSeriesValues/18418?digitalTwinId=179\\u0026startDateTime=2022-07-07T22:00:00.0000000Z\\u0026endDateTime=2022-07-09T04:00:00.0000000Z\\u0026integrationType=1\",\"Status\":400,\"Message\":\"Error occurred while attempting action TimeSeriesValuesForScadaSignalAndDates\",\"Detail\":\"The request timed-out.\",\"CorrelationId\":\"368e13bb-d98b-4605-93a7-346db5c1d050\"}\r\n",
            "16:41:08.59 | ERR | Failed to get sensor TSD for 18418 [2022-07-07 22:00:00Z,2022-07-09 04:00:00Z]. Reason: Bad Request. Text: {\"Timestamp\":\"2022-07-08T22:41:08.6918807Z\",\"Location\":\"/api/v1/RealTimeDataAcquisition/TimeSeriesValues/18418?digitalTwinId=179\\u0026startDateTime=2022-07-07T22:00:00.0000000Z\\u0026endDateTime=2022-07-09T04:00:00.0000000Z\\u0026integrationType=1\",\"Status\":400,\"Message\":\"Error occurred while attempting action TimeSeriesValuesForScadaSignalAndDates\",\"Detail\":\"The request timed-out.\",\"CorrelationId\":\"368e13bb-d98b-4605-93a7-346db5c1d050\"}. URL: https://connect-watersight.bentley.com/api/v1/RealTimeDataAcquisition/TimeSeriesValues/18418?digitalTwinId=179&startDateTime=2022-07-07T22:00:00.0000000Z&endDateTime=2022-07-09T04:00:00.0000000Z&integrationType=1\r\n",
            "16:41:08.59 | ERR | Message: {\"Timestamp\":\"2022-07-08T22:41:08.6818723Z\",\"Location\":\"/api/v1/RealTimeDataAcquisition/TimeSeriesValues/18413?digitalTwinId=179\\u0026startDateTime=2022-07-07T22:00:00.0000000Z\\u0026endDateTime=2022-07-09T04:00:00.0000000Z\\u0026integrationType=1\",\"Status\":400,\"Message\":\"Error occurred while attempting action TimeSeriesValuesForScadaSignalAndDates\",\"Detail\":\"The request timed-out.\",\"CorrelationId\":\"4617812e-67a6-4e4d-8ace-b3f8e163150b\"}\r\n",
            "16:41:08.59 | ERR | Failed to get sensor TSD for 18413 [2022-07-07 22:00:00Z,2022-07-09 04:00:00Z]. Reason: Bad Request. Text: {\"Timestamp\":\"2022-07-08T22:41:08.6818723Z\",\"Location\":\"/api/v1/RealTimeDataAcquisition/TimeSeriesValues/18413?digitalTwinId=179\\u0026startDateTime=2022-07-07T22:00:00.0000000Z\\u0026endDateTime=2022-07-09T04:00:00.0000000Z\\u0026integrationType=1\",\"Status\":400,\"Message\":\"Error occurred while attempting action TimeSeriesValuesForScadaSignalAndDates\",\"Detail\":\"The request timed-out.\",\"CorrelationId\":\"4617812e-67a6-4e4d-8ace-b3f8e163150b\"}. URL: https://connect-watersight.bentley.com/api/v1/RealTimeDataAcquisition/TimeSeriesValues/18413?digitalTwinId=179&startDateTime=2022-07-07T22:00:00.0000000Z&endDateTime=2022-07-09T04:00:00.0000000Z&integrationType=1\r\n",
            "16:41:08.59 | ERR | Message: {\"Timestamp\":\"2022-07-08T22:41:08.686878Z\",\"Location\":\"/api/v1/RealTimeDataAcquisition/TimeSeriesValues/18422?digitalTwinId=179\\u0026startDateTime=2022-07-07T22:00:00.0000000Z\\u0026endDateTime=2022-07-09T04:00:00.0000000Z\\u0026integrationType=1\",\"Status\":400,\"Message\":\"Error occurred while attempting action TimeSeriesValuesForScadaSignalAndDates\",\"Detail\":\"The request timed-out.\",\"CorrelationId\":\"2fb58413-3240-48dc-9b04-0a87a38109eb\"}\r\n",
            "16:41:08.59 | ERR | Failed to get sensor TSD for 18422 [2022-07-07 22:00:00Z,2022-07-09 04:00:00Z]. Reason: Bad Request. Text: {\"Timestamp\":\"2022-07-08T22:41:08.686878Z\",\"Location\":\"/api/v1/RealTimeDataAcquisition/TimeSeriesValues/18422?digitalTwinId=179\\u0026startDateTime=2022-07-07T22:00:00.0000000Z\\u0026endDateTime=2022-07-09T04:00:00.0000000Z\\u0026integrationType=1\",\"Status\":400,\"Message\":\"Error occurred while attempting action TimeSeriesValuesForScadaSignalAndDates\",\"Detail\":\"The request timed-out.\",\"CorrelationId\":\"2fb58413-3240-48dc-9b04-0a87a38109eb\"}. URL: https://connect-watersight.bentley.com/api/v1/RealTimeDataAcquisition/TimeSeriesValues/18422?digitalTwinId=179&startDateTime=2022-07-07T22:00:00.0000000Z&endDateTime=2022-07-09T04:00:00.0000000Z&integrationType=1\r\n"
          ]
        }
      ],
      "source": [
        "var modelMeasurements = await ws.CustomWaterModel.GetAllScadaElementsOutputData();"
      ]
    },
    {
      "cell_type": "code",
      "execution_count": null,
      "metadata": {
        "dotnet_interactive": {
          "language": "csharp"
        },
        "vscode": {
          "languageId": "dotnet-interactive.csharp"
        }
      },
      "outputs": [
        {
          "ename": "Error",
          "evalue": "System.NullReferenceException: Object reference not set to an instance of an object.\r\n   at WaterSight.Web.Custom.ModelMeasureData.ToString() in D:\\Development\\DotNET\\WaterSight\\WaterSight\\WaterSight.Web\\WaterSight.Web\\Custom\\WaterModel.cs:line 123\r\n   at System.Runtime.CompilerServices.DefaultInterpolatedStringHandler.AppendFormatted[T](T value)\r\n   at Submission#18.<<Initialize>>d__0.MoveNext()\r\n--- End of stack trace from previous location ---\r\n   at Microsoft.CodeAnalysis.Scripting.ScriptExecutionState.RunSubmissionsAsync[TResult](ImmutableArray`1 precedingExecutors, Func`2 currentExecutor, StrongBox`1 exceptionHolderOpt, Func`2 catchExceptionOpt, CancellationToken cancellationToken)",
          "output_type": "error",
          "traceback": [
            "System.NullReferenceException: Object reference not set to an instance of an object.\r\n",
            "   at WaterSight.Web.Custom.ModelMeasureData.ToString() in D:\\Development\\DotNET\\WaterSight\\WaterSight\\WaterSight.Web\\WaterSight.Web\\Custom\\WaterModel.cs:line 123\r\n",
            "   at System.Runtime.CompilerServices.DefaultInterpolatedStringHandler.AppendFormatted[T](T value)\r\n",
            "   at Submission#18.<<Initialize>>d__0.MoveNext()\r\n",
            "--- End of stack trace from previous location ---\r\n",
            "   at Microsoft.CodeAnalysis.Scripting.ScriptExecutionState.RunSubmissionsAsync[TResult](ImmutableArray`1 precedingExecutors, Func`2 currentExecutor, StrongBox`1 exceptionHolderOpt, Func`2 catchExceptionOpt, CancellationToken cancellationToken)"
          ]
        }
      ],
      "source": [
        "foreach(var modelMeasureData in modelMeasurements){\n",
        "    WS.Logger.Information($\"{modelMeasureData}\");\n",
        "}"
      ]
    }
  ],
  "metadata": {
    "kernelspec": {
      "display_name": ".NET (C#)",
      "language": "C#",
      "name": ".net-csharp"
    },
    "language_info": {
      "file_extension": ".cs",
      "mimetype": "text/x-csharp",
      "name": "C#",
      "pygments_lexer": "csharp",
      "version": "8.0"
    }
  },
  "nbformat": 4,
  "nbformat_minor": 4
}
